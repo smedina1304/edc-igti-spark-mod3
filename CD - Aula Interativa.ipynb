{
 "cells": [
  {
   "cell_type": "markdown",
   "metadata": {},
   "source": [
    "## Bibliotecas"
   ]
  },
  {
   "cell_type": "code",
   "execution_count": 1,
   "metadata": {},
   "outputs": [],
   "source": [
    "from pyspark.sql import SparkSession\n",
    "import pyspark.sql.functions as f\n",
    "import pyspark.sql.types as t"
   ]
  },
  {
   "cell_type": "markdown",
   "metadata": {},
   "source": [
    "## Setup"
   ]
  },
  {
   "cell_type": "code",
   "execution_count": 2,
   "metadata": {},
   "outputs": [],
   "source": [
    "import findspark\n",
    "\n",
    "findspark.init()"
   ]
  },
  {
   "cell_type": "code",
   "execution_count": 3,
   "metadata": {},
   "outputs": [],
   "source": [
    "spark = (\n",
    "    SparkSession\n",
    "    .builder\n",
    "    .config(\"spark.serializer\", \"org.apache.spark.serializer.KryoSerializer\")\n",
    "    .getOrCreate()\n",
    ")"
   ]
  },
  {
   "cell_type": "code",
   "execution_count": 4,
   "metadata": {},
   "outputs": [],
   "source": [
    "(\n",
    "    spark.read.format(\"csv\").load('data/imdb/title_basics.tsv', header=True, sep = '\\t')\n",
    "    .write.format('parquet').save('data/imdb/title_basics', mode='overwrite')\n",
    ")"
   ]
  },
  {
   "cell_type": "code",
   "execution_count": null,
   "metadata": {},
   "outputs": [],
   "source": [
    "(\n",
    "    spark.read.format(\"csv\").load('data/imdb/title_ratings.tsv', header=True, sep = '\\t')\n",
    "    .write.format('parquet').save('data/imdb/title_ratings', mode='overwrite')\n",
    ")"
   ]
  },
  {
   "cell_type": "code",
   "execution_count": 5,
   "metadata": {},
   "outputs": [],
   "source": [
    "df_titles = spark.read.format(\"parquet\").load('data/imdb/title_basics')\n",
    "df_ratings = spark.read.format(\"parquet\").load('data/imdb/title_ratings')"
   ]
  },
  {
   "cell_type": "code",
   "execution_count": 13,
   "metadata": {},
   "outputs": [
    {
     "data": {
      "text/html": [
       "<div>\n",
       "<style scoped>\n",
       "    .dataframe tbody tr th:only-of-type {\n",
       "        vertical-align: middle;\n",
       "    }\n",
       "\n",
       "    .dataframe tbody tr th {\n",
       "        vertical-align: top;\n",
       "    }\n",
       "\n",
       "    .dataframe thead th {\n",
       "        text-align: right;\n",
       "    }\n",
       "</style>\n",
       "<table border=\"1\" class=\"dataframe\">\n",
       "  <thead>\n",
       "    <tr style=\"text-align: right;\">\n",
       "      <th></th>\n",
       "      <th>tconst</th>\n",
       "      <th>titleType</th>\n",
       "      <th>primaryTitle</th>\n",
       "      <th>originalTitle</th>\n",
       "      <th>isAdult</th>\n",
       "      <th>startYear</th>\n",
       "      <th>endYear</th>\n",
       "      <th>runtimeMinutes</th>\n",
       "      <th>genres</th>\n",
       "    </tr>\n",
       "  </thead>\n",
       "  <tbody>\n",
       "    <tr>\n",
       "      <th>0</th>\n",
       "      <td>tt0000001</td>\n",
       "      <td>short</td>\n",
       "      <td>Carmencita</td>\n",
       "      <td>Carmencita</td>\n",
       "      <td>0</td>\n",
       "      <td>1894</td>\n",
       "      <td>\\N</td>\n",
       "      <td>1</td>\n",
       "      <td>Documentary,Short</td>\n",
       "    </tr>\n",
       "    <tr>\n",
       "      <th>1</th>\n",
       "      <td>tt0000002</td>\n",
       "      <td>short</td>\n",
       "      <td>Le clown et ses chiens</td>\n",
       "      <td>Le clown et ses chiens</td>\n",
       "      <td>0</td>\n",
       "      <td>1892</td>\n",
       "      <td>\\N</td>\n",
       "      <td>5</td>\n",
       "      <td>Animation,Short</td>\n",
       "    </tr>\n",
       "    <tr>\n",
       "      <th>2</th>\n",
       "      <td>tt0000003</td>\n",
       "      <td>short</td>\n",
       "      <td>Pauvre Pierrot</td>\n",
       "      <td>Pauvre Pierrot</td>\n",
       "      <td>0</td>\n",
       "      <td>1892</td>\n",
       "      <td>\\N</td>\n",
       "      <td>4</td>\n",
       "      <td>Animation,Comedy,Romance</td>\n",
       "    </tr>\n",
       "    <tr>\n",
       "      <th>3</th>\n",
       "      <td>tt0000004</td>\n",
       "      <td>short</td>\n",
       "      <td>Un bon bock</td>\n",
       "      <td>Un bon bock</td>\n",
       "      <td>0</td>\n",
       "      <td>1892</td>\n",
       "      <td>\\N</td>\n",
       "      <td>12</td>\n",
       "      <td>Animation,Short</td>\n",
       "    </tr>\n",
       "    <tr>\n",
       "      <th>4</th>\n",
       "      <td>tt0000005</td>\n",
       "      <td>short</td>\n",
       "      <td>Blacksmith Scene</td>\n",
       "      <td>Blacksmith Scene</td>\n",
       "      <td>0</td>\n",
       "      <td>1893</td>\n",
       "      <td>\\N</td>\n",
       "      <td>1</td>\n",
       "      <td>Comedy,Short</td>\n",
       "    </tr>\n",
       "  </tbody>\n",
       "</table>\n",
       "</div>"
      ],
      "text/plain": [
       "      tconst titleType            primaryTitle           originalTitle  \\\n",
       "0  tt0000001     short              Carmencita              Carmencita   \n",
       "1  tt0000002     short  Le clown et ses chiens  Le clown et ses chiens   \n",
       "2  tt0000003     short          Pauvre Pierrot          Pauvre Pierrot   \n",
       "3  tt0000004     short             Un bon bock             Un bon bock   \n",
       "4  tt0000005     short        Blacksmith Scene        Blacksmith Scene   \n",
       "\n",
       "  isAdult startYear endYear runtimeMinutes                    genres  \n",
       "0       0      1894      \\N              1         Documentary,Short  \n",
       "1       0      1892      \\N              5           Animation,Short  \n",
       "2       0      1892      \\N              4  Animation,Comedy,Romance  \n",
       "3       0      1892      \\N             12           Animation,Short  \n",
       "4       0      1893      \\N              1              Comedy,Short  "
      ]
     },
     "execution_count": 13,
     "metadata": {},
     "output_type": "execute_result"
    }
   ],
   "source": [
    "df_titles.limit(5).toPandas()"
   ]
  },
  {
   "cell_type": "markdown",
   "metadata": {},
   "source": [
    "## Leitura e Escrita de Dados"
   ]
  },
  {
   "cell_type": "markdown",
   "metadata": {},
   "source": [
    "### DataFrameReader"
   ]
  },
  {
   "cell_type": "markdown",
   "metadata": {},
   "source": [
    "```\n",
    "spark.read.format(format).option(args).load(file/path)\n",
    "```"
   ]
  },
  {
   "cell_type": "markdown",
   "metadata": {},
   "source": [
    "### DataFrameWriter"
   ]
  },
  {
   "cell_type": "markdown",
   "metadata": {},
   "source": [
    "```\n",
    "df.write.format(format).option(args).save(file/path)\n",
    "```"
   ]
  },
  {
   "cell_type": "markdown",
   "metadata": {},
   "source": [
    "### Lendo e Escrevendo CSV"
   ]
  },
  {
   "cell_type": "markdown",
   "metadata": {
    "id": "zNBPgd8iG3yn"
   },
   "source": [
    "Opções mais comuns:\n",
    "* header\n",
    "* inferSchema\n",
    "* sep\n",
    "* encoding"
   ]
  },
  {
   "cell_type": "code",
   "execution_count": 14,
   "metadata": {},
   "outputs": [],
   "source": [
    "file_path = 'data/df_cnae.csv'\n",
    "df = spark.read.format('csv').load(file_path)"
   ]
  },
  {
   "cell_type": "code",
   "execution_count": 19,
   "metadata": {
    "id": "-iYt9lyVD2LF"
   },
   "outputs": [
    {
     "data": {
      "text/html": [
       "<div>\n",
       "<style scoped>\n",
       "    .dataframe tbody tr th:only-of-type {\n",
       "        vertical-align: middle;\n",
       "    }\n",
       "\n",
       "    .dataframe tbody tr th {\n",
       "        vertical-align: top;\n",
       "    }\n",
       "\n",
       "    .dataframe thead th {\n",
       "        text-align: right;\n",
       "    }\n",
       "</style>\n",
       "<table border=\"1\" class=\"dataframe\">\n",
       "  <thead>\n",
       "    <tr style=\"text-align: right;\">\n",
       "      <th></th>\n",
       "      <th>_c0</th>\n",
       "    </tr>\n",
       "  </thead>\n",
       "  <tbody>\n",
       "    <tr>\n",
       "      <th>0</th>\n",
       "      <td>\"0111301\";\"Cultivo de arroz\"</td>\n",
       "    </tr>\n",
       "    <tr>\n",
       "      <th>1</th>\n",
       "      <td>\"0111302\";\"Cultivo de milho\"</td>\n",
       "    </tr>\n",
       "    <tr>\n",
       "      <th>2</th>\n",
       "      <td>\"0111303\";\"Cultivo de trigo\"</td>\n",
       "    </tr>\n",
       "    <tr>\n",
       "      <th>3</th>\n",
       "      <td>\"0111399\";\"Cultivo de outros cereais n�o espec...</td>\n",
       "    </tr>\n",
       "    <tr>\n",
       "      <th>4</th>\n",
       "      <td>\"0112101\";\"Cultivo de algod�o herb�ceo\"</td>\n",
       "    </tr>\n",
       "    <tr>\n",
       "      <th>5</th>\n",
       "      <td>\"0112102\";\"Cultivo de juta\"</td>\n",
       "    </tr>\n",
       "    <tr>\n",
       "      <th>6</th>\n",
       "      <td>\"0112199\";\"Cultivo de outras fibras de lavoura...</td>\n",
       "    </tr>\n",
       "    <tr>\n",
       "      <th>7</th>\n",
       "      <td>\"0113000\";\"Cultivo de cana-de-a��car\"</td>\n",
       "    </tr>\n",
       "    <tr>\n",
       "      <th>8</th>\n",
       "      <td>\"0114800\";\"Cultivo de fumo\"</td>\n",
       "    </tr>\n",
       "    <tr>\n",
       "      <th>9</th>\n",
       "      <td>\"0115600\";\"Cultivo de soja\"</td>\n",
       "    </tr>\n",
       "    <tr>\n",
       "      <th>10</th>\n",
       "      <td>\"0116401\";\"Cultivo de amendoim\"</td>\n",
       "    </tr>\n",
       "    <tr>\n",
       "      <th>11</th>\n",
       "      <td>\"0116402\";\"Cultivo de girassol\"</td>\n",
       "    </tr>\n",
       "    <tr>\n",
       "      <th>12</th>\n",
       "      <td>\"0116403\";\"Cultivo de mamona\"</td>\n",
       "    </tr>\n",
       "    <tr>\n",
       "      <th>13</th>\n",
       "      <td>\"0116499\";\"Cultivo de outras oleaginosas de la...</td>\n",
       "    </tr>\n",
       "    <tr>\n",
       "      <th>14</th>\n",
       "      <td>\"0119901\";\"Cultivo de abacaxi\"</td>\n",
       "    </tr>\n",
       "  </tbody>\n",
       "</table>\n",
       "</div>"
      ],
      "text/plain": [
       "                                                  _c0\n",
       "0                        \"0111301\";\"Cultivo de arroz\"\n",
       "1                        \"0111302\";\"Cultivo de milho\"\n",
       "2                        \"0111303\";\"Cultivo de trigo\"\n",
       "3   \"0111399\";\"Cultivo de outros cereais n�o espec...\n",
       "4             \"0112101\";\"Cultivo de algod�o herb�ceo\"\n",
       "5                         \"0112102\";\"Cultivo de juta\"\n",
       "6   \"0112199\";\"Cultivo de outras fibras de lavoura...\n",
       "7               \"0113000\";\"Cultivo de cana-de-a��car\"\n",
       "8                         \"0114800\";\"Cultivo de fumo\"\n",
       "9                         \"0115600\";\"Cultivo de soja\"\n",
       "10                    \"0116401\";\"Cultivo de amendoim\"\n",
       "11                    \"0116402\";\"Cultivo de girassol\"\n",
       "12                      \"0116403\";\"Cultivo de mamona\"\n",
       "13  \"0116499\";\"Cultivo de outras oleaginosas de la...\n",
       "14                     \"0119901\";\"Cultivo de abacaxi\""
      ]
     },
     "execution_count": 19,
     "metadata": {},
     "output_type": "execute_result"
    }
   ],
   "source": [
    "df.limit(15).limit(15).toPandas()"
   ]
  },
  {
   "cell_type": "markdown",
   "metadata": {},
   "source": [
    "### Corrigindo"
   ]
  },
  {
   "cell_type": "code",
   "execution_count": 20,
   "metadata": {},
   "outputs": [],
   "source": [
    "schema = 'cod_cnae STRING, descricao_cnae STRING'"
   ]
  },
  {
   "cell_type": "code",
   "execution_count": 22,
   "metadata": {
    "id": "Fx7ulTa3hyVj"
   },
   "outputs": [
    {
     "data": {
      "text/html": [
       "<div>\n",
       "<style scoped>\n",
       "    .dataframe tbody tr th:only-of-type {\n",
       "        vertical-align: middle;\n",
       "    }\n",
       "\n",
       "    .dataframe tbody tr th {\n",
       "        vertical-align: top;\n",
       "    }\n",
       "\n",
       "    .dataframe thead th {\n",
       "        text-align: right;\n",
       "    }\n",
       "</style>\n",
       "<table border=\"1\" class=\"dataframe\">\n",
       "  <thead>\n",
       "    <tr style=\"text-align: right;\">\n",
       "      <th></th>\n",
       "      <th>cod_cnae</th>\n",
       "      <th>descricao_cnae</th>\n",
       "    </tr>\n",
       "  </thead>\n",
       "  <tbody>\n",
       "    <tr>\n",
       "      <th>0</th>\n",
       "      <td>0111301</td>\n",
       "      <td>Cultivo de arroz</td>\n",
       "    </tr>\n",
       "    <tr>\n",
       "      <th>1</th>\n",
       "      <td>0111302</td>\n",
       "      <td>Cultivo de milho</td>\n",
       "    </tr>\n",
       "    <tr>\n",
       "      <th>2</th>\n",
       "      <td>0111303</td>\n",
       "      <td>Cultivo de trigo</td>\n",
       "    </tr>\n",
       "    <tr>\n",
       "      <th>3</th>\n",
       "      <td>0111399</td>\n",
       "      <td>Cultivo de outros cereais não especificados an...</td>\n",
       "    </tr>\n",
       "    <tr>\n",
       "      <th>4</th>\n",
       "      <td>0112101</td>\n",
       "      <td>Cultivo de algodão herbáceo</td>\n",
       "    </tr>\n",
       "  </tbody>\n",
       "</table>\n",
       "</div>"
      ],
      "text/plain": [
       "  cod_cnae                                     descricao_cnae\n",
       "0  0111301                                   Cultivo de arroz\n",
       "1  0111302                                   Cultivo de milho\n",
       "2  0111303                                   Cultivo de trigo\n",
       "3  0111399  Cultivo de outros cereais não especificados an...\n",
       "4  0112101                        Cultivo de algodão herbáceo"
      ]
     },
     "execution_count": 22,
     "metadata": {},
     "output_type": "execute_result"
    }
   ],
   "source": [
    "df = spark.read.format('csv').load(file_path, sep=';', encoding='ISO-8859-1', schema=schema)\n",
    "df.limit(5).toPandas()"
   ]
  },
  {
   "cell_type": "code",
   "execution_count": null,
   "metadata": {},
   "outputs": [],
   "source": [
    "df.printSchema()"
   ]
  },
  {
   "cell_type": "markdown",
   "metadata": {},
   "source": [
    "### Lendo e Escrevendo Parquet"
   ]
  },
  {
   "cell_type": "markdown",
   "metadata": {},
   "source": [
    "* Armazenamento colunar, em contraste com o CSV, que armazena baseado nas linhas. Assim, quando uma query é realizada é possível ignorar os dados não relevantes de maneira rápida e fácil, resultando em operações bem mais eficientes;\n",
    "* Preservação de metadados, incluindo os tipos das colunas, o que garante eficiência e praticidade na escrita e leitura (não é necessário especificar schemas para arquivos parquet);\n",
    "* Suporte a dados estruturados de forma aninhada, como listas;\n",
    "* Otimizado para processar dados particionados com volume na casa dos gigabytes para cada arquivo;\n",
    "* Compressão de dados na escrita, de forma a ocupar menos espaço;\n",
    "* Integração com ferramentas como AWS Athena, Amazon Redshift Spectrum, Google BigQuery e Google Dataproc."
   ]
  },
  {
   "cell_type": "code",
   "execution_count": null,
   "metadata": {},
   "outputs": [],
   "source": [
    "df.write.format('parquet').save('data/df_cnae')"
   ]
  },
  {
   "cell_type": "code",
   "execution_count": null,
   "metadata": {},
   "outputs": [],
   "source": [
    "df = spark.read.format('parquet').load('data/df_cnae')"
   ]
  },
  {
   "cell_type": "markdown",
   "metadata": {
    "id": "OVHbwVw3qDXs"
   },
   "source": [
    "# Manipulação dos Dados"
   ]
  },
  {
   "cell_type": "code",
   "execution_count": 23,
   "metadata": {},
   "outputs": [
    {
     "data": {
      "text/html": [
       "<div>\n",
       "<style scoped>\n",
       "    .dataframe tbody tr th:only-of-type {\n",
       "        vertical-align: middle;\n",
       "    }\n",
       "\n",
       "    .dataframe tbody tr th {\n",
       "        vertical-align: top;\n",
       "    }\n",
       "\n",
       "    .dataframe thead th {\n",
       "        text-align: right;\n",
       "    }\n",
       "</style>\n",
       "<table border=\"1\" class=\"dataframe\">\n",
       "  <thead>\n",
       "    <tr style=\"text-align: right;\">\n",
       "      <th></th>\n",
       "      <th>tconst</th>\n",
       "      <th>titleType</th>\n",
       "      <th>primaryTitle</th>\n",
       "      <th>originalTitle</th>\n",
       "      <th>isAdult</th>\n",
       "      <th>startYear</th>\n",
       "      <th>endYear</th>\n",
       "      <th>runtimeMinutes</th>\n",
       "      <th>genres</th>\n",
       "    </tr>\n",
       "  </thead>\n",
       "  <tbody>\n",
       "    <tr>\n",
       "      <th>0</th>\n",
       "      <td>tt0000001</td>\n",
       "      <td>short</td>\n",
       "      <td>Carmencita</td>\n",
       "      <td>Carmencita</td>\n",
       "      <td>0</td>\n",
       "      <td>1894</td>\n",
       "      <td>\\N</td>\n",
       "      <td>1</td>\n",
       "      <td>Documentary,Short</td>\n",
       "    </tr>\n",
       "    <tr>\n",
       "      <th>1</th>\n",
       "      <td>tt0000002</td>\n",
       "      <td>short</td>\n",
       "      <td>Le clown et ses chiens</td>\n",
       "      <td>Le clown et ses chiens</td>\n",
       "      <td>0</td>\n",
       "      <td>1892</td>\n",
       "      <td>\\N</td>\n",
       "      <td>5</td>\n",
       "      <td>Animation,Short</td>\n",
       "    </tr>\n",
       "    <tr>\n",
       "      <th>2</th>\n",
       "      <td>tt0000003</td>\n",
       "      <td>short</td>\n",
       "      <td>Pauvre Pierrot</td>\n",
       "      <td>Pauvre Pierrot</td>\n",
       "      <td>0</td>\n",
       "      <td>1892</td>\n",
       "      <td>\\N</td>\n",
       "      <td>4</td>\n",
       "      <td>Animation,Comedy,Romance</td>\n",
       "    </tr>\n",
       "    <tr>\n",
       "      <th>3</th>\n",
       "      <td>tt0000004</td>\n",
       "      <td>short</td>\n",
       "      <td>Un bon bock</td>\n",
       "      <td>Un bon bock</td>\n",
       "      <td>0</td>\n",
       "      <td>1892</td>\n",
       "      <td>\\N</td>\n",
       "      <td>12</td>\n",
       "      <td>Animation,Short</td>\n",
       "    </tr>\n",
       "    <tr>\n",
       "      <th>4</th>\n",
       "      <td>tt0000005</td>\n",
       "      <td>short</td>\n",
       "      <td>Blacksmith Scene</td>\n",
       "      <td>Blacksmith Scene</td>\n",
       "      <td>0</td>\n",
       "      <td>1893</td>\n",
       "      <td>\\N</td>\n",
       "      <td>1</td>\n",
       "      <td>Comedy,Short</td>\n",
       "    </tr>\n",
       "  </tbody>\n",
       "</table>\n",
       "</div>"
      ],
      "text/plain": [
       "      tconst titleType            primaryTitle           originalTitle  \\\n",
       "0  tt0000001     short              Carmencita              Carmencita   \n",
       "1  tt0000002     short  Le clown et ses chiens  Le clown et ses chiens   \n",
       "2  tt0000003     short          Pauvre Pierrot          Pauvre Pierrot   \n",
       "3  tt0000004     short             Un bon bock             Un bon bock   \n",
       "4  tt0000005     short        Blacksmith Scene        Blacksmith Scene   \n",
       "\n",
       "  isAdult startYear endYear runtimeMinutes                    genres  \n",
       "0       0      1894      \\N              1         Documentary,Short  \n",
       "1       0      1892      \\N              5           Animation,Short  \n",
       "2       0      1892      \\N              4  Animation,Comedy,Romance  \n",
       "3       0      1892      \\N             12           Animation,Short  \n",
       "4       0      1893      \\N              1              Comedy,Short  "
      ]
     },
     "execution_count": 23,
     "metadata": {},
     "output_type": "execute_result"
    }
   ],
   "source": [
    "df_titles.limit(5).toPandas()"
   ]
  },
  {
   "cell_type": "code",
   "execution_count": 24,
   "metadata": {},
   "outputs": [
    {
     "data": {
      "text/html": [
       "<div>\n",
       "<style scoped>\n",
       "    .dataframe tbody tr th:only-of-type {\n",
       "        vertical-align: middle;\n",
       "    }\n",
       "\n",
       "    .dataframe tbody tr th {\n",
       "        vertical-align: top;\n",
       "    }\n",
       "\n",
       "    .dataframe thead th {\n",
       "        text-align: right;\n",
       "    }\n",
       "</style>\n",
       "<table border=\"1\" class=\"dataframe\">\n",
       "  <thead>\n",
       "    <tr style=\"text-align: right;\">\n",
       "      <th></th>\n",
       "      <th>tconst</th>\n",
       "      <th>averageRating</th>\n",
       "      <th>numVotes</th>\n",
       "    </tr>\n",
       "  </thead>\n",
       "  <tbody>\n",
       "    <tr>\n",
       "      <th>0</th>\n",
       "      <td>tt0000001</td>\n",
       "      <td>5.7</td>\n",
       "      <td>1809</td>\n",
       "    </tr>\n",
       "    <tr>\n",
       "      <th>1</th>\n",
       "      <td>tt0000002</td>\n",
       "      <td>6.0</td>\n",
       "      <td>233</td>\n",
       "    </tr>\n",
       "    <tr>\n",
       "      <th>2</th>\n",
       "      <td>tt0000003</td>\n",
       "      <td>6.5</td>\n",
       "      <td>1560</td>\n",
       "    </tr>\n",
       "    <tr>\n",
       "      <th>3</th>\n",
       "      <td>tt0000004</td>\n",
       "      <td>6.1</td>\n",
       "      <td>152</td>\n",
       "    </tr>\n",
       "    <tr>\n",
       "      <th>4</th>\n",
       "      <td>tt0000005</td>\n",
       "      <td>6.2</td>\n",
       "      <td>2383</td>\n",
       "    </tr>\n",
       "  </tbody>\n",
       "</table>\n",
       "</div>"
      ],
      "text/plain": [
       "      tconst averageRating numVotes\n",
       "0  tt0000001           5.7     1809\n",
       "1  tt0000002           6.0      233\n",
       "2  tt0000003           6.5     1560\n",
       "3  tt0000004           6.1      152\n",
       "4  tt0000005           6.2     2383"
      ]
     },
     "execution_count": 24,
     "metadata": {},
     "output_type": "execute_result"
    }
   ],
   "source": [
    "df_ratings.limit(5).toPandas()"
   ]
  },
  {
   "cell_type": "code",
   "execution_count": 25,
   "metadata": {},
   "outputs": [
    {
     "name": "stdout",
     "output_type": "stream",
     "text": [
      "root\n",
      " |-- tconst: string (nullable = true)\n",
      " |-- titleType: string (nullable = true)\n",
      " |-- primaryTitle: string (nullable = true)\n",
      " |-- originalTitle: string (nullable = true)\n",
      " |-- isAdult: string (nullable = true)\n",
      " |-- startYear: string (nullable = true)\n",
      " |-- endYear: string (nullable = true)\n",
      " |-- runtimeMinutes: string (nullable = true)\n",
      " |-- genres: string (nullable = true)\n",
      "\n"
     ]
    }
   ],
   "source": [
    "df_titles.printSchema()"
   ]
  },
  {
   "cell_type": "markdown",
   "metadata": {},
   "source": [
    "### Colunas e Expressões"
   ]
  },
  {
   "cell_type": "markdown",
   "metadata": {},
   "source": [
    "As colunas são a principal unidade de manipulação de dados do Spark. "
   ]
  },
  {
   "cell_type": "code",
   "execution_count": 30,
   "metadata": {
    "id": "b1_37wRiyLNN",
    "scrolled": true
   },
   "outputs": [
    {
     "data": {
      "text/html": [
       "<div>\n",
       "<style scoped>\n",
       "    .dataframe tbody tr th:only-of-type {\n",
       "        vertical-align: middle;\n",
       "    }\n",
       "\n",
       "    .dataframe tbody tr th {\n",
       "        vertical-align: top;\n",
       "    }\n",
       "\n",
       "    .dataframe thead th {\n",
       "        text-align: right;\n",
       "    }\n",
       "</style>\n",
       "<table border=\"1\" class=\"dataframe\">\n",
       "  <thead>\n",
       "    <tr style=\"text-align: right;\">\n",
       "      <th></th>\n",
       "      <th>tconst</th>\n",
       "      <th>primaryTitle</th>\n",
       "      <th>runTimeMinutes</th>\n",
       "      <th>runtimeHours</th>\n",
       "    </tr>\n",
       "  </thead>\n",
       "  <tbody>\n",
       "    <tr>\n",
       "      <th>0</th>\n",
       "      <td>tt0000001</td>\n",
       "      <td>Carmencita</td>\n",
       "      <td>1</td>\n",
       "      <td>0.017</td>\n",
       "    </tr>\n",
       "    <tr>\n",
       "      <th>1</th>\n",
       "      <td>tt0000002</td>\n",
       "      <td>Le clown et ses chiens</td>\n",
       "      <td>5</td>\n",
       "      <td>0.083</td>\n",
       "    </tr>\n",
       "    <tr>\n",
       "      <th>2</th>\n",
       "      <td>tt0000003</td>\n",
       "      <td>Pauvre Pierrot</td>\n",
       "      <td>4</td>\n",
       "      <td>0.067</td>\n",
       "    </tr>\n",
       "    <tr>\n",
       "      <th>3</th>\n",
       "      <td>tt0000004</td>\n",
       "      <td>Un bon bock</td>\n",
       "      <td>12</td>\n",
       "      <td>0.200</td>\n",
       "    </tr>\n",
       "    <tr>\n",
       "      <th>4</th>\n",
       "      <td>tt0000005</td>\n",
       "      <td>Blacksmith Scene</td>\n",
       "      <td>1</td>\n",
       "      <td>0.017</td>\n",
       "    </tr>\n",
       "  </tbody>\n",
       "</table>\n",
       "</div>"
      ],
      "text/plain": [
       "      tconst            primaryTitle  runTimeMinutes  runtimeHours\n",
       "0  tt0000001              Carmencita               1         0.017\n",
       "1  tt0000002  Le clown et ses chiens               5         0.083\n",
       "2  tt0000003          Pauvre Pierrot               4         0.067\n",
       "3  tt0000004             Un bon bock              12         0.200\n",
       "4  tt0000005        Blacksmith Scene               1         0.017"
      ]
     },
     "execution_count": 30,
     "metadata": {},
     "output_type": "execute_result"
    }
   ],
   "source": [
    "(\n",
    "    df_titles\n",
    "    .select('tconst', 'primaryTitle', 'runtimeMinutes', )\n",
    "    .withColumn(\"runTimeMinutes\", f.col('runTimeMinutes').cast('int'))\n",
    "    .withColumn(\"runtimeHours\", f.round(f.col('runTimeMinutes') / 60, 3))\n",
    "    .limit(5)\n",
    "    .toPandas()\n",
    ")"
   ]
  },
  {
   "cell_type": "markdown",
   "metadata": {
    "id": "kjmnC-CsE5dn"
   },
   "source": [
    "Forma \"pandas\" de selecionar:\n",
    "\n",
    "1. `df.coluna`\n",
    "2. `df['coluna']`"
   ]
  },
  {
   "cell_type": "code",
   "execution_count": null,
   "metadata": {
    "id": "b1_37wRiyLNN"
   },
   "outputs": [],
   "source": [
    "(\n",
    "    df_titles.select('tconst', 'primaryTitle', 'runtimeMinutes', )\n",
    "    .withColumn(\"runtimeHours\", df_titles['runtimeMinutes'].cast('int') / 60 )\n",
    "    .show(5)\n",
    ")"
   ]
  },
  {
   "cell_type": "code",
   "execution_count": null,
   "metadata": {
    "id": "b1_37wRiyLNN"
   },
   "outputs": [],
   "source": [
    "(\n",
    "    df_titles.select('tconst', 'primaryTitle', 'runtimeMinutes', )\n",
    "    .withColumn(\"runtimeHours\", df_titles['runtimeMinutes'].cast('int') / 60 )\n",
    "    .withColumn(\"hours_plus2\", df_titles['runtimeHours'] + 2 )\n",
    "    .show(5)\n",
    ")"
   ]
  },
  {
   "cell_type": "code",
   "execution_count": null,
   "metadata": {
    "id": "Tc8Afpw51cDR"
   },
   "outputs": [],
   "source": [
    "(\n",
    "    df_titles.select('tconst', 'primaryTitle', 'runtimeMinutes', )\n",
    "    .withColumn(\"runtimeHours\", col('runTimeMinutes').cast('int') / 60 )\n",
    "    .withColumn(\"hours_plus2\", col('runtimeHours') + 2 )\n",
    "    .show(5)\n",
    ")"
   ]
  },
  {
   "cell_type": "markdown",
   "metadata": {
    "id": "zj5bT_TFmwQy"
   },
   "source": [
    "### Seleção de Colunas"
   ]
  },
  {
   "cell_type": "code",
   "execution_count": 31,
   "metadata": {
    "scrolled": true
   },
   "outputs": [
    {
     "data": {
      "text/html": [
       "<div>\n",
       "<style scoped>\n",
       "    .dataframe tbody tr th:only-of-type {\n",
       "        vertical-align: middle;\n",
       "    }\n",
       "\n",
       "    .dataframe tbody tr th {\n",
       "        vertical-align: top;\n",
       "    }\n",
       "\n",
       "    .dataframe thead th {\n",
       "        text-align: right;\n",
       "    }\n",
       "</style>\n",
       "<table border=\"1\" class=\"dataframe\">\n",
       "  <thead>\n",
       "    <tr style=\"text-align: right;\">\n",
       "      <th></th>\n",
       "      <th>tconst</th>\n",
       "      <th>titleType</th>\n",
       "      <th>primaryTitle</th>\n",
       "      <th>originalTitle</th>\n",
       "      <th>isAdult</th>\n",
       "      <th>startYear</th>\n",
       "      <th>endYear</th>\n",
       "      <th>runtimeMinutes</th>\n",
       "      <th>genres</th>\n",
       "    </tr>\n",
       "  </thead>\n",
       "  <tbody>\n",
       "    <tr>\n",
       "      <th>0</th>\n",
       "      <td>tt0000001</td>\n",
       "      <td>short</td>\n",
       "      <td>Carmencita</td>\n",
       "      <td>Carmencita</td>\n",
       "      <td>0</td>\n",
       "      <td>1894</td>\n",
       "      <td>\\N</td>\n",
       "      <td>1</td>\n",
       "      <td>Documentary,Short</td>\n",
       "    </tr>\n",
       "    <tr>\n",
       "      <th>1</th>\n",
       "      <td>tt0000002</td>\n",
       "      <td>short</td>\n",
       "      <td>Le clown et ses chiens</td>\n",
       "      <td>Le clown et ses chiens</td>\n",
       "      <td>0</td>\n",
       "      <td>1892</td>\n",
       "      <td>\\N</td>\n",
       "      <td>5</td>\n",
       "      <td>Animation,Short</td>\n",
       "    </tr>\n",
       "    <tr>\n",
       "      <th>2</th>\n",
       "      <td>tt0000003</td>\n",
       "      <td>short</td>\n",
       "      <td>Pauvre Pierrot</td>\n",
       "      <td>Pauvre Pierrot</td>\n",
       "      <td>0</td>\n",
       "      <td>1892</td>\n",
       "      <td>\\N</td>\n",
       "      <td>4</td>\n",
       "      <td>Animation,Comedy,Romance</td>\n",
       "    </tr>\n",
       "    <tr>\n",
       "      <th>3</th>\n",
       "      <td>tt0000004</td>\n",
       "      <td>short</td>\n",
       "      <td>Un bon bock</td>\n",
       "      <td>Un bon bock</td>\n",
       "      <td>0</td>\n",
       "      <td>1892</td>\n",
       "      <td>\\N</td>\n",
       "      <td>12</td>\n",
       "      <td>Animation,Short</td>\n",
       "    </tr>\n",
       "    <tr>\n",
       "      <th>4</th>\n",
       "      <td>tt0000005</td>\n",
       "      <td>short</td>\n",
       "      <td>Blacksmith Scene</td>\n",
       "      <td>Blacksmith Scene</td>\n",
       "      <td>0</td>\n",
       "      <td>1893</td>\n",
       "      <td>\\N</td>\n",
       "      <td>1</td>\n",
       "      <td>Comedy,Short</td>\n",
       "    </tr>\n",
       "  </tbody>\n",
       "</table>\n",
       "</div>"
      ],
      "text/plain": [
       "      tconst titleType            primaryTitle           originalTitle  \\\n",
       "0  tt0000001     short              Carmencita              Carmencita   \n",
       "1  tt0000002     short  Le clown et ses chiens  Le clown et ses chiens   \n",
       "2  tt0000003     short          Pauvre Pierrot          Pauvre Pierrot   \n",
       "3  tt0000004     short             Un bon bock             Un bon bock   \n",
       "4  tt0000005     short        Blacksmith Scene        Blacksmith Scene   \n",
       "\n",
       "  isAdult startYear endYear runtimeMinutes                    genres  \n",
       "0       0      1894      \\N              1         Documentary,Short  \n",
       "1       0      1892      \\N              5           Animation,Short  \n",
       "2       0      1892      \\N              4  Animation,Comedy,Romance  \n",
       "3       0      1892      \\N             12           Animation,Short  \n",
       "4       0      1893      \\N              1              Comedy,Short  "
      ]
     },
     "execution_count": 31,
     "metadata": {},
     "output_type": "execute_result"
    }
   ],
   "source": [
    "df_titles.limit(5).toPandas()"
   ]
  },
  {
   "cell_type": "code",
   "execution_count": 33,
   "metadata": {},
   "outputs": [
    {
     "data": {
      "text/plain": [
       "['tconst',\n",
       " 'titleType',\n",
       " 'primaryTitle',\n",
       " 'originalTitle',\n",
       " 'isAdult',\n",
       " 'startYear',\n",
       " 'endYear',\n",
       " 'runtimeMinutes',\n",
       " 'genres']"
      ]
     },
     "execution_count": 33,
     "metadata": {},
     "output_type": "execute_result"
    }
   ],
   "source": [
    "df_titles.columns"
   ]
  },
  {
   "cell_type": "code",
   "execution_count": 32,
   "metadata": {
    "id": "weKxO-bzp_ss",
    "scrolled": true
   },
   "outputs": [
    {
     "data": {
      "text/html": [
       "<div>\n",
       "<style scoped>\n",
       "    .dataframe tbody tr th:only-of-type {\n",
       "        vertical-align: middle;\n",
       "    }\n",
       "\n",
       "    .dataframe tbody tr th {\n",
       "        vertical-align: top;\n",
       "    }\n",
       "\n",
       "    .dataframe thead th {\n",
       "        text-align: right;\n",
       "    }\n",
       "</style>\n",
       "<table border=\"1\" class=\"dataframe\">\n",
       "  <thead>\n",
       "    <tr style=\"text-align: right;\">\n",
       "      <th></th>\n",
       "      <th>tconst</th>\n",
       "      <th>primaryTitle</th>\n",
       "      <th>genres</th>\n",
       "    </tr>\n",
       "  </thead>\n",
       "  <tbody>\n",
       "    <tr>\n",
       "      <th>0</th>\n",
       "      <td>tt0000001</td>\n",
       "      <td>Carmencita</td>\n",
       "      <td>Documentary,Short</td>\n",
       "    </tr>\n",
       "    <tr>\n",
       "      <th>1</th>\n",
       "      <td>tt0000002</td>\n",
       "      <td>Le clown et ses chiens</td>\n",
       "      <td>Animation,Short</td>\n",
       "    </tr>\n",
       "    <tr>\n",
       "      <th>2</th>\n",
       "      <td>tt0000003</td>\n",
       "      <td>Pauvre Pierrot</td>\n",
       "      <td>Animation,Comedy,Romance</td>\n",
       "    </tr>\n",
       "    <tr>\n",
       "      <th>3</th>\n",
       "      <td>tt0000004</td>\n",
       "      <td>Un bon bock</td>\n",
       "      <td>Animation,Short</td>\n",
       "    </tr>\n",
       "    <tr>\n",
       "      <th>4</th>\n",
       "      <td>tt0000005</td>\n",
       "      <td>Blacksmith Scene</td>\n",
       "      <td>Comedy,Short</td>\n",
       "    </tr>\n",
       "  </tbody>\n",
       "</table>\n",
       "</div>"
      ],
      "text/plain": [
       "      tconst            primaryTitle                    genres\n",
       "0  tt0000001              Carmencita         Documentary,Short\n",
       "1  tt0000002  Le clown et ses chiens           Animation,Short\n",
       "2  tt0000003          Pauvre Pierrot  Animation,Comedy,Romance\n",
       "3  tt0000004             Un bon bock           Animation,Short\n",
       "4  tt0000005        Blacksmith Scene              Comedy,Short"
      ]
     },
     "execution_count": 32,
     "metadata": {},
     "output_type": "execute_result"
    }
   ],
   "source": [
    "df_titles.select('tconst', 'primaryTitle', 'genres').limit(5).toPandas()"
   ]
  },
  {
   "cell_type": "code",
   "execution_count": 34,
   "metadata": {
    "id": "kMkyVG1Enfp6"
   },
   "outputs": [
    {
     "data": {
      "text/html": [
       "<div>\n",
       "<style scoped>\n",
       "    .dataframe tbody tr th:only-of-type {\n",
       "        vertical-align: middle;\n",
       "    }\n",
       "\n",
       "    .dataframe tbody tr th {\n",
       "        vertical-align: top;\n",
       "    }\n",
       "\n",
       "    .dataframe thead th {\n",
       "        text-align: right;\n",
       "    }\n",
       "</style>\n",
       "<table border=\"1\" class=\"dataframe\">\n",
       "  <thead>\n",
       "    <tr style=\"text-align: right;\">\n",
       "      <th></th>\n",
       "      <th>tconst</th>\n",
       "      <th>primaryTitle</th>\n",
       "      <th>genres</th>\n",
       "    </tr>\n",
       "  </thead>\n",
       "  <tbody>\n",
       "    <tr>\n",
       "      <th>0</th>\n",
       "      <td>tt0000001</td>\n",
       "      <td>Carmencita</td>\n",
       "      <td>Documentary,Short</td>\n",
       "    </tr>\n",
       "    <tr>\n",
       "      <th>1</th>\n",
       "      <td>tt0000002</td>\n",
       "      <td>Le clown et ses chiens</td>\n",
       "      <td>Animation,Short</td>\n",
       "    </tr>\n",
       "    <tr>\n",
       "      <th>2</th>\n",
       "      <td>tt0000003</td>\n",
       "      <td>Pauvre Pierrot</td>\n",
       "      <td>Animation,Comedy,Romance</td>\n",
       "    </tr>\n",
       "    <tr>\n",
       "      <th>3</th>\n",
       "      <td>tt0000004</td>\n",
       "      <td>Un bon bock</td>\n",
       "      <td>Animation,Short</td>\n",
       "    </tr>\n",
       "    <tr>\n",
       "      <th>4</th>\n",
       "      <td>tt0000005</td>\n",
       "      <td>Blacksmith Scene</td>\n",
       "      <td>Comedy,Short</td>\n",
       "    </tr>\n",
       "  </tbody>\n",
       "</table>\n",
       "</div>"
      ],
      "text/plain": [
       "      tconst            primaryTitle                    genres\n",
       "0  tt0000001              Carmencita         Documentary,Short\n",
       "1  tt0000002  Le clown et ses chiens           Animation,Short\n",
       "2  tt0000003          Pauvre Pierrot  Animation,Comedy,Romance\n",
       "3  tt0000004             Un bon bock           Animation,Short\n",
       "4  tt0000005        Blacksmith Scene              Comedy,Short"
      ]
     },
     "execution_count": 34,
     "metadata": {},
     "output_type": "execute_result"
    }
   ],
   "source": [
    "cols = ['tconst', 'primaryTitle', 'genres']\n",
    "df_titles.select(cols).limit(5).toPandas()"
   ]
  },
  {
   "cell_type": "code",
   "execution_count": 35,
   "metadata": {
    "id": "z9BbhKdPnlrt"
   },
   "outputs": [
    {
     "data": {
      "text/html": [
       "<div>\n",
       "<style scoped>\n",
       "    .dataframe tbody tr th:only-of-type {\n",
       "        vertical-align: middle;\n",
       "    }\n",
       "\n",
       "    .dataframe tbody tr th {\n",
       "        vertical-align: top;\n",
       "    }\n",
       "\n",
       "    .dataframe thead th {\n",
       "        text-align: right;\n",
       "    }\n",
       "</style>\n",
       "<table border=\"1\" class=\"dataframe\">\n",
       "  <thead>\n",
       "    <tr style=\"text-align: right;\">\n",
       "      <th></th>\n",
       "      <th>tconst</th>\n",
       "      <th>primaryTitle</th>\n",
       "      <th>genres</th>\n",
       "    </tr>\n",
       "  </thead>\n",
       "  <tbody>\n",
       "    <tr>\n",
       "      <th>0</th>\n",
       "      <td>tt0000001</td>\n",
       "      <td>Carmencita</td>\n",
       "      <td>Documentary,Short</td>\n",
       "    </tr>\n",
       "    <tr>\n",
       "      <th>1</th>\n",
       "      <td>tt0000002</td>\n",
       "      <td>Le clown et ses chiens</td>\n",
       "      <td>Animation,Short</td>\n",
       "    </tr>\n",
       "    <tr>\n",
       "      <th>2</th>\n",
       "      <td>tt0000003</td>\n",
       "      <td>Pauvre Pierrot</td>\n",
       "      <td>Animation,Comedy,Romance</td>\n",
       "    </tr>\n",
       "    <tr>\n",
       "      <th>3</th>\n",
       "      <td>tt0000004</td>\n",
       "      <td>Un bon bock</td>\n",
       "      <td>Animation,Short</td>\n",
       "    </tr>\n",
       "    <tr>\n",
       "      <th>4</th>\n",
       "      <td>tt0000005</td>\n",
       "      <td>Blacksmith Scene</td>\n",
       "      <td>Comedy,Short</td>\n",
       "    </tr>\n",
       "  </tbody>\n",
       "</table>\n",
       "</div>"
      ],
      "text/plain": [
       "      tconst            primaryTitle                    genres\n",
       "0  tt0000001              Carmencita         Documentary,Short\n",
       "1  tt0000002  Le clown et ses chiens           Animation,Short\n",
       "2  tt0000003          Pauvre Pierrot  Animation,Comedy,Romance\n",
       "3  tt0000004             Un bon bock           Animation,Short\n",
       "4  tt0000005        Blacksmith Scene              Comedy,Short"
      ]
     },
     "execution_count": 35,
     "metadata": {},
     "output_type": "execute_result"
    }
   ],
   "source": [
    "cols = ['primaryTitle', 'genres']\n",
    "df_titles.select('tconst', *cols).limit(5).toPandas()"
   ]
  },
  {
   "cell_type": "code",
   "execution_count": 39,
   "metadata": {
    "id": "z9BbhKdPnlrt"
   },
   "outputs": [
    {
     "data": {
      "text/html": [
       "<div>\n",
       "<style scoped>\n",
       "    .dataframe tbody tr th:only-of-type {\n",
       "        vertical-align: middle;\n",
       "    }\n",
       "\n",
       "    .dataframe tbody tr th {\n",
       "        vertical-align: top;\n",
       "    }\n",
       "\n",
       "    .dataframe thead th {\n",
       "        text-align: right;\n",
       "    }\n",
       "</style>\n",
       "<table border=\"1\" class=\"dataframe\">\n",
       "  <thead>\n",
       "    <tr style=\"text-align: right;\">\n",
       "      <th></th>\n",
       "      <th>runtimeHours</th>\n",
       "      <th>tconst</th>\n",
       "      <th>titleType</th>\n",
       "      <th>primaryTitle</th>\n",
       "      <th>originalTitle</th>\n",
       "      <th>isAdult</th>\n",
       "      <th>startYear</th>\n",
       "      <th>endYear</th>\n",
       "      <th>runtimeMinutes</th>\n",
       "      <th>genres</th>\n",
       "    </tr>\n",
       "  </thead>\n",
       "  <tbody>\n",
       "    <tr>\n",
       "      <th>0</th>\n",
       "      <td>0.016667</td>\n",
       "      <td>tt0000001</td>\n",
       "      <td>short</td>\n",
       "      <td>Carmencita</td>\n",
       "      <td>Carmencita</td>\n",
       "      <td>0</td>\n",
       "      <td>1894</td>\n",
       "      <td>\\N</td>\n",
       "      <td>1</td>\n",
       "      <td>Documentary,Short</td>\n",
       "    </tr>\n",
       "    <tr>\n",
       "      <th>1</th>\n",
       "      <td>0.083333</td>\n",
       "      <td>tt0000002</td>\n",
       "      <td>short</td>\n",
       "      <td>Le clown et ses chiens</td>\n",
       "      <td>Le clown et ses chiens</td>\n",
       "      <td>0</td>\n",
       "      <td>1892</td>\n",
       "      <td>\\N</td>\n",
       "      <td>5</td>\n",
       "      <td>Animation,Short</td>\n",
       "    </tr>\n",
       "    <tr>\n",
       "      <th>2</th>\n",
       "      <td>0.066667</td>\n",
       "      <td>tt0000003</td>\n",
       "      <td>short</td>\n",
       "      <td>Pauvre Pierrot</td>\n",
       "      <td>Pauvre Pierrot</td>\n",
       "      <td>0</td>\n",
       "      <td>1892</td>\n",
       "      <td>\\N</td>\n",
       "      <td>4</td>\n",
       "      <td>Animation,Comedy,Romance</td>\n",
       "    </tr>\n",
       "    <tr>\n",
       "      <th>3</th>\n",
       "      <td>0.200000</td>\n",
       "      <td>tt0000004</td>\n",
       "      <td>short</td>\n",
       "      <td>Un bon bock</td>\n",
       "      <td>Un bon bock</td>\n",
       "      <td>0</td>\n",
       "      <td>1892</td>\n",
       "      <td>\\N</td>\n",
       "      <td>12</td>\n",
       "      <td>Animation,Short</td>\n",
       "    </tr>\n",
       "    <tr>\n",
       "      <th>4</th>\n",
       "      <td>0.016667</td>\n",
       "      <td>tt0000005</td>\n",
       "      <td>short</td>\n",
       "      <td>Blacksmith Scene</td>\n",
       "      <td>Blacksmith Scene</td>\n",
       "      <td>0</td>\n",
       "      <td>1893</td>\n",
       "      <td>\\N</td>\n",
       "      <td>1</td>\n",
       "      <td>Comedy,Short</td>\n",
       "    </tr>\n",
       "  </tbody>\n",
       "</table>\n",
       "</div>"
      ],
      "text/plain": [
       "   runtimeHours     tconst titleType            primaryTitle  \\\n",
       "0      0.016667  tt0000001     short              Carmencita   \n",
       "1      0.083333  tt0000002     short  Le clown et ses chiens   \n",
       "2      0.066667  tt0000003     short          Pauvre Pierrot   \n",
       "3      0.200000  tt0000004     short             Un bon bock   \n",
       "4      0.016667  tt0000005     short        Blacksmith Scene   \n",
       "\n",
       "            originalTitle isAdult startYear endYear runtimeMinutes  \\\n",
       "0              Carmencita       0      1894      \\N              1   \n",
       "1  Le clown et ses chiens       0      1892      \\N              5   \n",
       "2          Pauvre Pierrot       0      1892      \\N              4   \n",
       "3             Un bon bock       0      1892      \\N             12   \n",
       "4        Blacksmith Scene       0      1893      \\N              1   \n",
       "\n",
       "                     genres  \n",
       "0         Documentary,Short  \n",
       "1           Animation,Short  \n",
       "2  Animation,Comedy,Romance  \n",
       "3           Animation,Short  \n",
       "4              Comedy,Short  "
      ]
     },
     "execution_count": 39,
     "metadata": {},
     "output_type": "execute_result"
    }
   ],
   "source": [
    "df_titles.select((f.col('runtimeMinutes') / 60).alias('runtimeHours') , '*').limit(5).toPandas()"
   ]
  },
  {
   "cell_type": "markdown",
   "metadata": {
    "id": "JErw3YdRn-bu"
   },
   "source": [
    "Observações:\n",
    "* Podemos realizar operações sobre colunas selecionadas. \n",
    "* A ordem em que as colunas são selecionadas é a ordem em que elas vão ser inseridas no DataFrame resultante."
   ]
  },
  {
   "cell_type": "code",
   "execution_count": 43,
   "metadata": {
    "id": "GJNl4tcGn1bi"
   },
   "outputs": [
    {
     "data": {
      "text/html": [
       "<div>\n",
       "<style scoped>\n",
       "    .dataframe tbody tr th:only-of-type {\n",
       "        vertical-align: middle;\n",
       "    }\n",
       "\n",
       "    .dataframe tbody tr th {\n",
       "        vertical-align: top;\n",
       "    }\n",
       "\n",
       "    .dataframe thead th {\n",
       "        text-align: right;\n",
       "    }\n",
       "</style>\n",
       "<table border=\"1\" class=\"dataframe\">\n",
       "  <thead>\n",
       "    <tr style=\"text-align: right;\">\n",
       "      <th></th>\n",
       "      <th>tconst</th>\n",
       "      <th>genres</th>\n",
       "      <th>primaryTitle</th>\n",
       "      <th>primaryTitle</th>\n",
       "    </tr>\n",
       "  </thead>\n",
       "  <tbody>\n",
       "    <tr>\n",
       "      <th>0</th>\n",
       "      <td>tt0000001</td>\n",
       "      <td>Documentary,Short</td>\n",
       "      <td>Carmencita</td>\n",
       "      <td>CARMENCITA</td>\n",
       "    </tr>\n",
       "    <tr>\n",
       "      <th>1</th>\n",
       "      <td>tt0000002</td>\n",
       "      <td>Animation,Short</td>\n",
       "      <td>Le clown et ses chiens</td>\n",
       "      <td>LE CLOWN ET SES CHIENS</td>\n",
       "    </tr>\n",
       "    <tr>\n",
       "      <th>2</th>\n",
       "      <td>tt0000003</td>\n",
       "      <td>Animation,Comedy,Romance</td>\n",
       "      <td>Pauvre Pierrot</td>\n",
       "      <td>PAUVRE PIERROT</td>\n",
       "    </tr>\n",
       "    <tr>\n",
       "      <th>3</th>\n",
       "      <td>tt0000004</td>\n",
       "      <td>Animation,Short</td>\n",
       "      <td>Un bon bock</td>\n",
       "      <td>UN BON BOCK</td>\n",
       "    </tr>\n",
       "    <tr>\n",
       "      <th>4</th>\n",
       "      <td>tt0000005</td>\n",
       "      <td>Comedy,Short</td>\n",
       "      <td>Blacksmith Scene</td>\n",
       "      <td>BLACKSMITH SCENE</td>\n",
       "    </tr>\n",
       "  </tbody>\n",
       "</table>\n",
       "</div>"
      ],
      "text/plain": [
       "      tconst                    genres            primaryTitle  \\\n",
       "0  tt0000001         Documentary,Short              Carmencita   \n",
       "1  tt0000002           Animation,Short  Le clown et ses chiens   \n",
       "2  tt0000003  Animation,Comedy,Romance          Pauvre Pierrot   \n",
       "3  tt0000004           Animation,Short             Un bon bock   \n",
       "4  tt0000005              Comedy,Short        Blacksmith Scene   \n",
       "\n",
       "             primaryTitle  \n",
       "0              CARMENCITA  \n",
       "1  LE CLOWN ET SES CHIENS  \n",
       "2          PAUVRE PIERROT  \n",
       "3             UN BON BOCK  \n",
       "4        BLACKSMITH SCENE  "
      ]
     },
     "execution_count": 43,
     "metadata": {},
     "output_type": "execute_result"
    }
   ],
   "source": [
    "df_titles.select('tconst', 'genres', 'primaryTitle', f.upper('primaryTitle').alias('primaryTitle')).limit(5).toPandas()"
   ]
  },
  {
   "cell_type": "markdown",
   "metadata": {
    "id": "TbZL83ifHh10"
   },
   "source": [
    "#### Selecionando valores distintos"
   ]
  },
  {
   "cell_type": "code",
   "execution_count": 46,
   "metadata": {
    "id": "cMug6VcsHoc9"
   },
   "outputs": [
    {
     "data": {
      "text/html": [
       "<div>\n",
       "<style scoped>\n",
       "    .dataframe tbody tr th:only-of-type {\n",
       "        vertical-align: middle;\n",
       "    }\n",
       "\n",
       "    .dataframe tbody tr th {\n",
       "        vertical-align: top;\n",
       "    }\n",
       "\n",
       "    .dataframe thead th {\n",
       "        text-align: right;\n",
       "    }\n",
       "</style>\n",
       "<table border=\"1\" class=\"dataframe\">\n",
       "  <thead>\n",
       "    <tr style=\"text-align: right;\">\n",
       "      <th></th>\n",
       "      <th>startYear</th>\n",
       "    </tr>\n",
       "  </thead>\n",
       "  <tbody>\n",
       "    <tr>\n",
       "      <th>0</th>\n",
       "      <td>1903</td>\n",
       "    </tr>\n",
       "    <tr>\n",
       "      <th>1</th>\n",
       "      <td>1953</td>\n",
       "    </tr>\n",
       "    <tr>\n",
       "      <th>2</th>\n",
       "      <td>1897</td>\n",
       "    </tr>\n",
       "    <tr>\n",
       "      <th>3</th>\n",
       "      <td>1957</td>\n",
       "    </tr>\n",
       "    <tr>\n",
       "      <th>4</th>\n",
       "      <td>1987</td>\n",
       "    </tr>\n",
       "    <tr>\n",
       "      <th>...</th>\n",
       "      <td>...</td>\n",
       "    </tr>\n",
       "    <tr>\n",
       "      <th>145</th>\n",
       "      <td>1975</td>\n",
       "    </tr>\n",
       "    <tr>\n",
       "      <th>146</th>\n",
       "      <td>1970</td>\n",
       "    </tr>\n",
       "    <tr>\n",
       "      <th>147</th>\n",
       "      <td>1892</td>\n",
       "    </tr>\n",
       "    <tr>\n",
       "      <th>148</th>\n",
       "      <td>1933</td>\n",
       "    </tr>\n",
       "    <tr>\n",
       "      <th>149</th>\n",
       "      <td>1920</td>\n",
       "    </tr>\n",
       "  </tbody>\n",
       "</table>\n",
       "<p>150 rows × 1 columns</p>\n",
       "</div>"
      ],
      "text/plain": [
       "    startYear\n",
       "0        1903\n",
       "1        1953\n",
       "2        1897\n",
       "3        1957\n",
       "4        1987\n",
       "..        ...\n",
       "145      1975\n",
       "146      1970\n",
       "147      1892\n",
       "148      1933\n",
       "149      1920\n",
       "\n",
       "[150 rows x 1 columns]"
      ]
     },
     "execution_count": 46,
     "metadata": {},
     "output_type": "execute_result"
    }
   ],
   "source": [
    "df_titles.select('startYear').distinct().toPandas()"
   ]
  },
  {
   "cell_type": "markdown",
   "metadata": {
    "id": "UW-DEiXZolZf"
   },
   "source": [
    "### Filtros"
   ]
  },
  {
   "cell_type": "markdown",
   "metadata": {
    "id": "ZbbP3O8NUvc8"
   },
   "source": [
    "Operadores lógicos:\n",
    "* e: &\n",
    "* ou: |\n",
    "* não: ~\n",
    "\n",
    "Para fazer o filtro, pode ser utilizado tanto a função `filter()` como `where()`."
   ]
  },
  {
   "cell_type": "markdown",
   "metadata": {
    "id": "W9TJtlHtpSXP"
   },
   "source": [
    "#### Filtros com uma condição"
   ]
  },
  {
   "cell_type": "code",
   "execution_count": null,
   "metadata": {
    "id": "ZIzjn9Ysopb7"
   },
   "outputs": [],
   "source": [
    "(\n",
    "    df_titles.filter(~(col('titleType') == 'movie'))\n",
    "    .count()\n",
    ")"
   ]
  },
  {
   "cell_type": "markdown",
   "metadata": {
    "id": "18P2zY_mpW9z"
   },
   "source": [
    "#### Filtros com duas ou mais condições\n",
    "Cada uma das condições deve estar entre parênteses e separada por um operador lógico. Naturalmente, é possível também \"aninhar\" condições, seguindo essa mesma lógica"
   ]
  },
  {
   "cell_type": "code",
   "execution_count": null,
   "metadata": {
    "id": "swJ6NhRWpQRn"
   },
   "outputs": [],
   "source": [
    "(\n",
    "    df_titles.filter((col('titleType') == 'movie') & (col('runtimeMinutes') <= 90))\n",
    "    .show(5)\n",
    ")"
   ]
  },
  {
   "cell_type": "code",
   "execution_count": null,
   "metadata": {
    "id": "swJ6NhRWpQRn"
   },
   "outputs": [],
   "source": [
    "(\n",
    "    df_titles.filter((col('titleType') == 'movie') & (col('runtimeMinutes') <= 90))\n",
    "    .count()\n",
    ")"
   ]
  },
  {
   "cell_type": "code",
   "execution_count": null,
   "metadata": {
    "id": "96uyYvbHqPDg"
   },
   "outputs": [],
   "source": [
    "(\n",
    "    df_titles.filter(((col('titleType') == 'movie') | (col('titleType') == 'tvSeries')) & (col('runtimeMinutes') <= 90))\n",
    "    .count()\n",
    ")"
   ]
  },
  {
   "cell_type": "code",
   "execution_count": null,
   "metadata": {
    "id": "htiqqZERrLZT"
   },
   "outputs": [],
   "source": [
    "(\n",
    "    df_titles.filter((col('titleType').isin('movie', 'tvSeries')) & (col('runtimeMinutes') <= 90))\n",
    "    .count()\n",
    ")"
   ]
  },
  {
   "cell_type": "code",
   "execution_count": null,
   "metadata": {
    "id": "htiqqZERrLZT"
   },
   "outputs": [],
   "source": [
    "(\n",
    "    df_titles\n",
    "    .filter(col('titleType').isin('movie','tvSeries'))\n",
    "    .filter(col('runtimeMinutes') <= 90)\n",
    "    .count()\n",
    ")"
   ]
  },
  {
   "cell_type": "markdown",
   "metadata": {
    "id": "r7No5VU2qaXS"
   },
   "source": [
    "#### Filtros Utilizando Expressões"
   ]
  },
  {
   "cell_type": "code",
   "execution_count": null,
   "metadata": {
    "id": "TdDAkcx_qcud"
   },
   "outputs": [],
   "source": [
    "(\n",
    "    df_titles\n",
    "    .filter('titleType = \"movie\"')\n",
    "    .show(5)\n",
    ")"
   ]
  },
  {
   "cell_type": "code",
   "execution_count": null,
   "metadata": {
    "id": "UHojQs9HqdRI"
   },
   "outputs": [],
   "source": [
    "(\n",
    "    df_titles\n",
    "    .filter('titleType in (\"movie\", \"tvSeries\") and runtimeMinutes <= 90')\n",
    "    .show(5)\n",
    ")"
   ]
  },
  {
   "cell_type": "markdown",
   "metadata": {
    "id": "hIU3LBh9r6Y5"
   },
   "source": [
    "#### Observações\n",
    "Quando nos referimos às colunas por meio da função `col()`, temos acesso à diversos métodos das colunas que podem ser utilizados para auxliar na filtragem do DataFrame. Alguns deles são:\n",
    "* `isin()`: checa se a coluna contém os valores listados na função.\n",
    "* `contains()`: utilizado para verificar se uma coluna de texto contém algum padrão especificado (não aceita regex). Aceita uma outra coluna de texto.\n",
    "* `like()`: utilizado para verificar se uma coluna de texto contém algum padrão especificado (não aceita regex). Funciona de forma similar ao \"LIKE\" do SQL.\n",
    "* `rlike()`: utilizado para verificar se uma coluna de texto contém algum padrão especificado (**aceita regex**). Funciona de forma similar ao \"RLIKE\" do SQL.\n",
    "* `startswith()`: utilizado para verificar se uma coluna de texto começa com algum padrão especificado (**aceita regex**).\n",
    "* `endswith()`: utilizado para verificar se uma coluna de texto termina com algum padrão especificado (**aceita regex**).\n",
    "* `between()`: checa se os valores da coluna estão dentro do intervalo especificado. Os dois lados do intervalo são inclusivos.\n",
    "* `isNull()`: retorna True se o valor da coluna é nulo\n",
    "* `isNotNull()`: retorna True se o valor da coluna não é nulo\n",
    "\n",
    "Outros métodos úteis:\n",
    "* `alias()/name()`: usado para renomear as colunas em operações como select() e agg()\n",
    "* `astype()/cast()`: usado para mudar o tipo das colunas. Aceita tanto um string como um tipo especificado pelo módulo pyspark.sql.types\n",
    "* `substr()`: utilizado para cortar um string com base em índices dos caracteres "
   ]
  },
  {
   "cell_type": "code",
   "execution_count": null,
   "metadata": {
    "id": "5_PLVkeDE5bO"
   },
   "outputs": [],
   "source": [
    "(\n",
    "    df_titles\n",
    "    .filter(col('primaryTitle').like('Avengers%'))\n",
    "    .filter(col('titleType') == 'movie')\n",
    "    .show()\n",
    ")"
   ]
  },
  {
   "cell_type": "code",
   "execution_count": null,
   "metadata": {
    "id": "5_PLVkeDE5bO"
   },
   "outputs": [],
   "source": [
    "(\n",
    "    df_titles\n",
    "    .withColumn('startYear', col(\"startYear\").cast('int'))\n",
    "    .filter('startYear is not null')\n",
    "    .show()\n",
    ")"
   ]
  },
  {
   "cell_type": "markdown",
   "metadata": {
    "id": "GGh6ifiDIM-P"
   },
   "source": [
    "### Ordenando o DataFrame"
   ]
  },
  {
   "cell_type": "markdown",
   "metadata": {
    "id": "C6up9X4QJN1s"
   },
   "source": [
    "A ordenação do DataFrame pode ser feita utilizando as funções `orderBy()` ou `sort()`. Algumas funções auxiliares importante para serem usadas ao ordenar:\n",
    "* `asc()`: ordena a coluna de forma ascendente (default)\n",
    "* `desc()`ordena a coluna de forma decrescente\n",
    "* `asc_nulls_first() / desc_nulls_first()`: ordena a coluna de forma ascendente e decrescente, respectivamente, mantendo os campos nulos primeiro\n",
    "* `asc_nulls_last() / desc_nulls_last()`: ordena a coluna de forma ascendente e decrescente, respectivamente, mantendo os campos nulos por último"
   ]
  },
  {
   "cell_type": "code",
   "execution_count": null,
   "metadata": {
    "scrolled": true
   },
   "outputs": [],
   "source": [
    "df_titles.show(5)"
   ]
  },
  {
   "cell_type": "code",
   "execution_count": null,
   "metadata": {
    "id": "GF4v4b-rISVe"
   },
   "outputs": [],
   "source": [
    "from pyspark.sql.functions import desc\n",
    "\n",
    "(\n",
    "    df_titles\n",
    "    .withColumn('startYear', col('startYear').cast('int'))\n",
    "    .orderBy('startYear')\n",
    "    .filter('titleType = \"movie\"')\n",
    "    .show()\n",
    ")"
   ]
  },
  {
   "cell_type": "code",
   "execution_count": null,
   "metadata": {
    "id": "eo_SkepdIdsH"
   },
   "outputs": [],
   "source": [
    "from pyspark.sql.functions import desc_nulls_first\n",
    "\n",
    "(\n",
    "    df_titles\n",
    "    .withColumn('startYear', col('startYear').cast('int'))\n",
    "    .orderBy(desc_nulls_first('startYear'))\n",
    "    .show()\n",
    ")"
   ]
  },
  {
   "cell_type": "markdown",
   "metadata": {
    "id": "JejMRib9v7Ji"
   },
   "source": [
    "### Renomeando Colunas"
   ]
  },
  {
   "cell_type": "markdown",
   "metadata": {
    "id": "A-r10heJh5BD"
   },
   "source": [
    "Para renomear colunas, é utilizada a função `withColumnRenamed()`, da seguinte forma:\n",
    "\n",
    "```\n",
    "df.withColumnRenamed(\"nome_antigo\", \"nome_novo\")\n",
    "```"
   ]
  },
  {
   "cell_type": "code",
   "execution_count": null,
   "metadata": {
    "id": "_xyy0dtprVDN"
   },
   "outputs": [],
   "source": [
    "(\n",
    "    df_titles\n",
    "    .withColumnRenamed('primaryTitle', 'nome_filme')\n",
    "    .show(5)\n",
    ")"
   ]
  },
  {
   "cell_type": "code",
   "execution_count": null,
   "metadata": {
    "id": "zFb_oCxiwR5x"
   },
   "outputs": [],
   "source": [
    "(\n",
    "    df_titles\n",
    "    .select('*', f.col('primaryTitle').alias('nome_filme'))   \n",
    "    .limit(5)\n",
    "    .toPandas()\n",
    ")"
   ]
  },
  {
   "cell_type": "code",
   "execution_count": null,
   "metadata": {},
   "outputs": [],
   "source": [
    "df_renamed = df_titles\n",
    "for c in df_titles.columns:\n",
    "    df_renamed = df_renamed.withColumnRenamed(c, c + '_suffix')\n",
    "\n",
    "df_renamed.limit(5).toPandas()"
   ]
  },
  {
   "cell_type": "markdown",
   "metadata": {
    "id": "pKIqUor1wars"
   },
   "source": [
    "### Criando e Alterando Colunas"
   ]
  },
  {
   "cell_type": "markdown",
   "metadata": {
    "id": "Jz8P4W7Rh5BE"
   },
   "source": [
    "Para criar ou alterar colunas, é utilizada a função `withColumn()`, da seguinte forma:\n",
    "\n",
    "```\n",
    "df.withColumn(\"nome_da_coluna\", {expressão geradora de coluna})\n",
    "```"
   ]
  },
  {
   "cell_type": "code",
   "execution_count": null,
   "metadata": {
    "id": "L1vsXYn7xScI"
   },
   "outputs": [],
   "source": [
    "from pyspark.sql.functions import upper\n",
    "\n",
    "(\n",
    "    df_titles\n",
    "    .select('tconst', 'primaryTitle', 'runtimeMinutes', )\n",
    "    .withColumn(\"primaryTitle_2\", upper('primaryTitle'))\n",
    "    .show(5)\n",
    ")"
   ]
  },
  {
   "cell_type": "markdown",
   "metadata": {},
   "source": [
    "#### Criando colunas a partir de constantes"
   ]
  },
  {
   "cell_type": "code",
   "execution_count": null,
   "metadata": {
    "id": "thEM8FvOwcce"
   },
   "outputs": [],
   "source": [
    "from pyspark.sql.functions import lit\n",
    "\n",
    "(\n",
    "    df_titles\n",
    "    .select('tconst', 'primaryTitle', 'runtimeMinutes', )\n",
    "    .withColumn(\"pais\", lit('Brasil'))\n",
    "    .show(5)\n",
    ")"
   ]
  },
  {
   "cell_type": "markdown",
   "metadata": {},
   "source": [
    "#### Criando colunas condicionais"
   ]
  },
  {
   "cell_type": "code",
   "execution_count": null,
   "metadata": {},
   "outputs": [],
   "source": [
    "from pyspark.sql.functions import when, expr\n",
    "\n",
    "predicado = \"\"\"\n",
    "\n",
    "CASE WHEN runTimeMinutes <= 60 THEN 'curto'\n",
    "     WHEN runTimeMinutes > 60 AND runTimeMinutes < 120 THEN 'normal'\n",
    "     WHEN runTimeMinutes >= 120 THEN 'longo'\n",
    "     WHEN runTimeMinutes IS NULL THEN 'nulo'\n",
    "     ELSE 'Erro'\n",
    "END\n",
    "\n",
    "\"\"\"\n",
    "\n",
    "(\n",
    "    df_titles\n",
    "    .select('tconst', 'primaryTitle', 'runtimeMinutes', )\n",
    "    .withColumn(\"runtimeMinutes\", col('runTimeMinutes').cast('int'))\n",
    "    .withColumn(\"categoria_runtime\", expr(predicado))\n",
    "    .filter('runTimeMinutes > 60')\n",
    "    .show(25)\n",
    ")"
   ]
  },
  {
   "cell_type": "markdown",
   "metadata": {
    "id": "U4Wb7b84S-Hx"
   },
   "source": [
    "### Agregação e Agrupamento"
   ]
  },
  {
   "cell_type": "markdown",
   "metadata": {
    "id": "DMfZyeyqKixT"
   },
   "source": [
    "O agrupamento dos DataFrames é feito por meio da função **`groupby()`**. Essa função deve ser sucedida pela função de agregação `agg()`, de pivotação `pivot()` ou `count()`. \n",
    "\n",
    "---\n",
    "\n",
    "A função **`agg()`** aplica uma função de agregação no DataFrame. Se precedida por `groupby()`, realiza a agregação dentro dos grupos esabelecidos.\n",
    "Algumas das funções de agregação mais comuns:\n",
    "* `sum()`: retorna a soma os valores da coluna\n",
    "* `sumDistinct()`: retorna a soma os valores distintos da coluna\n",
    "* `max() / min()`: retorna o mínimo e o máximo da coluna, respectivamente\n",
    "* `avg() / mean()`: retorna a média dos valores da coluna\n",
    "* `percentile_approx()`: retorna o percentil da coluna, comaproximação. Para trazer a mediana exata, usar: `percentile_approx(f.col('column'), 0.5, lit(1000000))`\n",
    "* `stddev()`: retorna o desvio padrão dos valores da coluna\n",
    "* `count()`: retorna a contagem de linhas\n",
    "* `countDistinct()`: retorna a contagem de valores distintos da coluna\n",
    "* `first() / last()`: retorna o primeiro e o último valor da coluna no agrupamento, respectivamente. Interessante de ser utilizada em conjunto com o argumento `ignoreNulls=True`.\n",
    "* `collect_list()`: retorna os valores do agrupamento em uma lista, com duplicações\n",
    "* `collect_set()`: retorna os valores do agrupamento em uma lista, sem duplicações (desordenado)\n",
    "\n",
    "**Obs**: O spark ignora os valores nulos para calcular as agregações, com exceção da função `count()`.\n",
    "\n",
    "---\n",
    "\n",
    "A função **`pivot`** é utilizada para passar valores de uma linha para as colunas, realizando uma agregação. Deve ser sucedido por uma função de agregação utilizando `agg()`. Pode utilizar qualquer uma das funções de agregação anteriores.\n",
    "\n"
   ]
  },
  {
   "cell_type": "code",
   "execution_count": null,
   "metadata": {},
   "outputs": [],
   "source": [
    "df_titles_subset = (\n",
    "    df_titles\n",
    "    .filter(\"cast(startYear as int) >= 2000\")\n",
    "    .withColumn('genre', f.split('genres', ',').getItem(0))\n",
    ")"
   ]
  },
  {
   "cell_type": "code",
   "execution_count": null,
   "metadata": {},
   "outputs": [],
   "source": [
    "df_titles_subset.limit(5).toPandas()"
   ]
  },
  {
   "cell_type": "code",
   "execution_count": null,
   "metadata": {
    "id": "KW3DbowFwQZW"
   },
   "outputs": [],
   "source": [
    "(\n",
    "    df_titles_subset\n",
    "    .agg(f.countDistinct('genre').alias('distinct_genres'),)\n",
    "    .toPandas()\n",
    ")"
   ]
  },
  {
   "cell_type": "code",
   "execution_count": null,
   "metadata": {
    "id": "KW3DbowFwQZW"
   },
   "outputs": [],
   "source": [
    "(\n",
    "    df_titles_subset\n",
    "    .withColumn('runtimeMinutes', f.col('runtimeMinutes').cast('int'))\n",
    "    .agg(f.sum('runtimeMinutes').alias('total_runtimeMinutes'),\n",
    "         f.mean('runtimeMinutes').alias('mean_runtimeMinutes'),\n",
    "         f.min('runtimeMinutes').alias('min_runtimeMinutes'),\n",
    "         f.max('runtimeMinutes').alias('max_runtimeMinutes'),\n",
    "         f.percentile_approx('runtimeMinutes', 0.5, f.lit(10000000)).alias('median_runtimeMinutes'),\n",
    "         f.stddev('runtimeMinutes').alias('std_runtimeMinutes'),\n",
    "        )\n",
    "    .toPandas()\n",
    ")"
   ]
  },
  {
   "cell_type": "code",
   "execution_count": null,
   "metadata": {},
   "outputs": [],
   "source": [
    "(\n",
    "    df_titles_subset\n",
    "    .withColumn('runtimeMinutes', f.col('runtimeMinutes').cast('int'))\n",
    "    .select('runtimeMinutes')\n",
    "    .describe()\n",
    "    .toPandas()\n",
    ")"
   ]
  },
  {
   "cell_type": "markdown",
   "metadata": {
    "id": "csmNQEBouFsh"
   },
   "source": [
    "#### Agrupamento"
   ]
  },
  {
   "cell_type": "code",
   "execution_count": null,
   "metadata": {},
   "outputs": [],
   "source": [
    "df_titles_subset.limit(5).toPandas()"
   ]
  },
  {
   "cell_type": "code",
   "execution_count": null,
   "metadata": {
    "id": "yn6_vBrtHHuP"
   },
   "outputs": [],
   "source": [
    "(\n",
    "    df_titles_subset\n",
    "    .groupby('genre', 'startYear')\n",
    "    .agg(f.mean('runtimeMinutes').alias('mean_runtimeMinutes'),)\n",
    "    .orderBy('startYear', f.col('mean_runtimeMinutes').desc())\n",
    "    .filter('startYear = 2021')\n",
    "    .toPandas()\n",
    ")"
   ]
  },
  {
   "cell_type": "code",
   "execution_count": null,
   "metadata": {
    "id": "6E-pU_LAQw5q"
   },
   "outputs": [],
   "source": [
    "(\n",
    "    df_titles_subset\n",
    "    .groupby('genre')\n",
    "    .agg(f.collect_set(f.col('titleType')).alias('lista_tipos_titulo'),\n",
    "         f.countDistinct(f.col('titleType')).alias('n_distinct')\n",
    "        )\n",
    "    .withColumn('tipos_filmes', f.explode(f.col('lista_tipos_titulo')))\n",
    "    .select('genre', 'tipos_filmes')\n",
    "    .toPandas()\n",
    ")"
   ]
  },
  {
   "cell_type": "markdown",
   "metadata": {
    "id": "lX3DUxTlw8KU"
   },
   "source": [
    "#### Pivotação"
   ]
  },
  {
   "cell_type": "code",
   "execution_count": null,
   "metadata": {
    "id": "q-_CbaA3h5BN"
   },
   "outputs": [],
   "source": [
    "df_titles_subset.limit(5).toPandas()"
   ]
  },
  {
   "cell_type": "code",
   "execution_count": null,
   "metadata": {
    "id": "WZKGSakRx2UU"
   },
   "outputs": [],
   "source": [
    "(\n",
    "    df_titles_subset\n",
    "    .drop('genre')\n",
    "    .withColumn('genres', f.explode(f.split(f.col('genres'), ',')))\n",
    "    .groupby('startYear')\n",
    "    .pivot('genres')\n",
    "    .agg(f.mean('runtimeMinutes'))\n",
    "    .na.fill(0)\n",
    "    .orderBy('startYear')\n",
    "    .limit(5)\n",
    "    .toPandas()\n",
    ")"
   ]
  },
  {
   "cell_type": "markdown",
   "metadata": {
    "id": "FKLCjMJWTHGp"
   },
   "source": [
    "### Window Functions"
   ]
  },
  {
   "cell_type": "markdown",
   "metadata": {
    "id": "gv-ogcIXzBX0"
   },
   "source": [
    "Window functions são funções que realizam cálculos similares à uma agregação, mas que não resultam em um DataFrame agregado. Ao invés disso, os resultados são colocados em uma nova coluna, segundo a partição (ou agrupamento) especificado. \n",
    "Exemplos mais comuns:\n",
    "* `row_number()`\n",
    "* `rank() / dense_rank() / percent_rank()`\n",
    "* `lag()`\n",
    "* `cume_dist()`\n",
    "* `collect_list() / collect_set()`\n",
    "* Demais funções de agregação, com exceção de `countDistinct()`\n",
    "\n",
    "Para usar as funções dessa forma, devemos criar uma janela (window) da seguinte forma:\n",
    "\n",
    "```{python}\n",
    "from pyspark.sql.window import Window\n",
    "w = Window.partitionBy({columns}).orderBy({columns}).rowsBetween({lower}, {upper})\n",
    "```\n",
    "\n",
    "* **`partitionBy()`**: agrupamento em que os cálculos serão realizados. É análogo ao `groupBy()`.\n",
    "* **`orderBy`**: algumas funções como `row_number()` e `lag()` dependem da ordenação das linhas do agrupamento. Essa função é usada para especificar essa ordem.\n",
    "* **`rowsBetween()`**: esse método é usado para especificar janelas deslizantes. A partir dele é possível definir um intervalo de linhas, relativas à linha atual, em que a função vai ser aplicada. Caso isso não seja especificado, as operações são realizadas em todo o grupo. Muito útil para construir **médias móveis**. Os seguintes objetos ajudam na constrção desse intervalo:\n",
    "  * `Window.currentRow`: define a linha para qual o valor está sendo calculado como um dos limites de cálculo\n",
    "  * `Window.unboundedPreceding`: define que não há limites para as linhas anteriores à linha para qual o valor está sendo calculado, isto é, a função irá considerar todas as linhas do grupo que já passaram. Deve ser usado no primeiro argumento (start).\n",
    "  * `Window.unboundedFollowing`: define que não há limites para as linhas posteriores à linha para qual o valor está sendo calculado, isto é, a função irá considerar todas as linhas do grupo que ainda não passaram. Deve ser usado no segundo argumento (end).\n",
    "\n",
    "Depois disso, basta utilizar a função `over()` para indicar que aquela função deve ser realizada na janela.  Exemplo:\n",
    "```\n",
    "df.withColumn('rn', f.row_number().over(w))\n",
    "```\n"
   ]
  },
  {
   "cell_type": "code",
   "execution_count": null,
   "metadata": {
    "id": "RYyCyNfF4uG0"
   },
   "outputs": [],
   "source": [
    "from pyspark.sql.window import Window"
   ]
  },
  {
   "cell_type": "code",
   "execution_count": null,
   "metadata": {},
   "outputs": [],
   "source": [
    "df_titles_subset.count()"
   ]
  },
  {
   "cell_type": "code",
   "execution_count": null,
   "metadata": {
    "id": "WdiYPJgA3n5B",
    "scrolled": true
   },
   "outputs": [],
   "source": [
    "w = Window.partitionBy('genre').orderBy('startYear')\n",
    "(\n",
    "    df_titles_subset\n",
    "    .withColumn('genre', f.split('genres', ',').getItem(0))\n",
    "    .withColumn('startYear', f.col('startYear').cast('int'))\n",
    "    .filter('startYear >= 2021')\n",
    "    .withColumn('rn', f.row_number().over(w))\n",
    "    .limit(25)\n",
    "    .toPandas()\n",
    ")"
   ]
  },
  {
   "cell_type": "code",
   "execution_count": null,
   "metadata": {
    "id": "aOVhOVsWh5BP"
   },
   "outputs": [],
   "source": [
    "w = Window.partitionBy('titleType', 'startYear')\n",
    "(\n",
    "    df_titles_subset\n",
    "    .withColumn('genre', f.split('genres', ',').getItem(0))\n",
    "    .withColumn('runtimeMinutes', f.col('runtimeMinutes').cast('int'))\n",
    "    .withColumn('total_minutes', f.sum(f.col('runtimeMinutes')).over(w))\n",
    "    .withColumn('mean_minutes', f.mean(f.col('runtimeMinutes')).over(w))\n",
    "    .withColumn('relative_minutes', f.col('runtimeMinutes') / f.col('total_minutes'))\n",
    "    .filter('runtimeMinutes is not null')\n",
    "    .limit(5)\n",
    "    .toPandas()\n",
    ")"
   ]
  },
  {
   "cell_type": "code",
   "execution_count": null,
   "metadata": {
    "scrolled": false
   },
   "outputs": [],
   "source": [
    "w = Window.partitionBy('titleType').orderBy('startYear').rowsBetween(-2, Window.currentRow)\n",
    "(\n",
    "    df_titles_subset\n",
    "    .withColumn('runtimeMinutes', f.col('runtimeMinutes').cast('int'))\n",
    "    .groupby('titleType', 'startYear')\n",
    "    .agg(f.mean('runtimeMinutes').alias('media_minutos'))\n",
    "#     .orderBy('titleType', 'startYear')\n",
    "#     .withColumn('meadia_movel_3anos', f.round(f.mean('media_minutos').over(w), 3))\n",
    "    .limit(15)\n",
    "    .toPandas()\n",
    ")"
   ]
  },
  {
   "cell_type": "code",
   "execution_count": null,
   "metadata": {},
   "outputs": [],
   "source": [
    "round((49.007634 + 50.358881 + 52.182771)/3, 3) == 50.516"
   ]
  },
  {
   "cell_type": "code",
   "execution_count": null,
   "metadata": {},
   "outputs": [],
   "source": [
    "round((49.186983 + 50.358881 + 52.182771 + 49.007634 + 55.584795)/5, 3) == 51.264"
   ]
  },
  {
   "cell_type": "markdown",
   "metadata": {
    "id": "cxUX_PheS6by"
   },
   "source": [
    "### Joins"
   ]
  },
  {
   "cell_type": "markdown",
   "metadata": {
    "id": "RVfchwYIh5BR"
   },
   "source": [
    "Os joins no pyspark são especificados pela função `join()`, da seguinte forma:\n",
    "\n",
    "```\n",
    "df1.join(df2, {key_columns}, {join_type})\n",
    "```\n",
    "\n",
    "* `key_columns`: colunas que vão ser utilizadas para fazer a junção das tabelas. Pode ser especificada como\n",
    "    * Um único string -> só uma coluna é chave, mesmos nomes nas duas tabelas\n",
    "    * Uma lista de string ou de colunas (`col()`) -> mais de uma coluna é chave, mesmos nomes nas duas tabelas\n",
    "    * Com nomes diferentes, é necessário fazer uma especificação do tipo: `f.col(column1) == f.col(column2)`. Caso existam mais de uma coluna como chave, essas especificações devem ser colocadas em uma lista.\n",
    "* `join_type`: o tipo de join a ser realizado. As opções são:\n",
    "    * `inner (default)`: INNER JOIN do SQL\n",
    "    * `outer / full / fullouter / full_outer`: : FULL OUTER JOIN do SQL\n",
    "    * `left / leftouter / left_outer`: : LEFT JOIN do SQL\n",
    "    * `right / rightouter / right_outer`: : RIGHT JOIN do SQL\n",
    "    * `semi / leftsemi / left_semi`: realiza um LEFT JOIN do SQL e retorna somente as colunas do DataFrame da esquerda que também estão no DataFrame da Direita\n",
    "    * `anti / leftanti / left_anti`: realiza um LEFT JOIN do SQL e retorna somente as colunas do DataFrame da esquerda que não estão no DataFrame da Direita"
   ]
  },
  {
   "cell_type": "code",
   "execution_count": null,
   "metadata": {},
   "outputs": [],
   "source": [
    "df_ratings.limit(5).toPandas()"
   ]
  },
  {
   "cell_type": "code",
   "execution_count": null,
   "metadata": {
    "scrolled": true
   },
   "outputs": [],
   "source": [
    "df_titles.limit(5).toPandas()"
   ]
  },
  {
   "cell_type": "code",
   "execution_count": null,
   "metadata": {},
   "outputs": [],
   "source": [
    "df_ratings.count()"
   ]
  },
  {
   "cell_type": "code",
   "execution_count": null,
   "metadata": {},
   "outputs": [],
   "source": [
    "df_titles.count()"
   ]
  },
  {
   "cell_type": "code",
   "execution_count": null,
   "metadata": {
    "id": "dQsKy0XS5Amr"
   },
   "outputs": [],
   "source": [
    "(\n",
    "    df_titles\n",
    "    .join(df_ratings, 'tconst')\n",
    "    .limit(5)\n",
    "    .toPandas()\n",
    ")"
   ]
  },
  {
   "cell_type": "code",
   "execution_count": null,
   "metadata": {
    "id": "pZHp7ZFih5BR"
   },
   "outputs": [],
   "source": [
    "(\n",
    "    df_titles\n",
    "    .withColumnRenamed('tconst', 'id_title')\n",
    "#     .withColumnRenamed('genres', 'averageRating')\n",
    "    .join(df_ratings, f.col('tconst') == f.col('id_title'))\n",
    "#     .withColumn('averageRating', f.expr('averageRating + 1'))\n",
    "    .limit(5)\n",
    "    .toPandas()\n",
    ")"
   ]
  },
  {
   "cell_type": "markdown",
   "metadata": {
    "id": "VYtCh83Gh5BS"
   },
   "source": [
    "#### Utilizando semi e anti join"
   ]
  },
  {
   "cell_type": "code",
   "execution_count": null,
   "metadata": {
    "id": "2afX5xQwh5BT"
   },
   "outputs": [],
   "source": [
    "(\n",
    "    df_titles\n",
    "    .join(df_ratings, 'tconst', 'semi')\n",
    "    .count()\n",
    ")"
   ]
  },
  {
   "cell_type": "code",
   "execution_count": null,
   "metadata": {
    "id": "X61Risrkh5BT"
   },
   "outputs": [],
   "source": [
    "(\n",
    "    df_titles\n",
    "    .join(df_ratings, 'tconst', 'anti')\n",
    "    .count()\n",
    ")"
   ]
  },
  {
   "cell_type": "code",
   "execution_count": null,
   "metadata": {},
   "outputs": [],
   "source": [
    "6961705 + 1174232 == df_titles.count()"
   ]
  },
  {
   "cell_type": "markdown",
   "metadata": {
    "id": "pAS_FXTKS8Ex"
   },
   "source": [
    "### Union"
   ]
  },
  {
   "cell_type": "markdown",
   "metadata": {
    "id": "_JjCbIoyh5BU"
   },
   "source": [
    "Existem três formas de unir DataFrames no pyspark:\n",
    "* `union() / unionAll()`: empilha os DataFrames, preservando linhas duplicadas. As colunas são unidas por posição, e por isso a ordem delas deve ser a mesma entre os dois DFs.\n",
    "* `unionByName()`: empilha os DataFrames, preservando linhas duplicadas. As colunas são unidas por nome, e por tanto não precisam estar ordenadas da mesma forma"
   ]
  },
  {
   "cell_type": "code",
   "execution_count": null,
   "metadata": {},
   "outputs": [],
   "source": [
    "df_titles.count()"
   ]
  },
  {
   "cell_type": "code",
   "execution_count": null,
   "metadata": {},
   "outputs": [],
   "source": [
    "df1 = df_titles.sample(fraction = 0.5)\n",
    "df2 = df_titles.join(df1, ['tconst'], 'anti')"
   ]
  },
  {
   "cell_type": "code",
   "execution_count": null,
   "metadata": {
    "id": "uAYz7Nolh5BU",
    "scrolled": true
   },
   "outputs": [],
   "source": [
    "df1.count()"
   ]
  },
  {
   "cell_type": "code",
   "execution_count": null,
   "metadata": {
    "id": "uAYz7Nolh5BU"
   },
   "outputs": [],
   "source": [
    "df2.count()"
   ]
  },
  {
   "cell_type": "code",
   "execution_count": null,
   "metadata": {
    "id": "_90-ZttQh5BU"
   },
   "outputs": [],
   "source": [
    "df1.union(df2).count()"
   ]
  },
  {
   "cell_type": "code",
   "execution_count": null,
   "metadata": {},
   "outputs": [],
   "source": [
    "df3 = df_titles.sample(fraction = 0.05)"
   ]
  },
  {
   "cell_type": "code",
   "execution_count": null,
   "metadata": {},
   "outputs": [],
   "source": [
    "df3.count()"
   ]
  },
  {
   "cell_type": "code",
   "execution_count": null,
   "metadata": {},
   "outputs": [],
   "source": [
    "df3.union(df3).count()"
   ]
  },
  {
   "cell_type": "code",
   "execution_count": null,
   "metadata": {
    "id": "IUipVH9Uh5BV"
   },
   "outputs": [],
   "source": [
    "df3.union(df3).distinct().count()"
   ]
  },
  {
   "cell_type": "code",
   "execution_count": null,
   "metadata": {
    "id": "Ud-l1FpHh5BV"
   },
   "outputs": [],
   "source": [
    "df2 = df2.select(df2.columns[::-1])"
   ]
  },
  {
   "cell_type": "code",
   "execution_count": null,
   "metadata": {},
   "outputs": [],
   "source": [
    "df1.limit(5).toPandas()"
   ]
  },
  {
   "cell_type": "code",
   "execution_count": null,
   "metadata": {},
   "outputs": [],
   "source": [
    "df2.limit(5).toPandas()"
   ]
  },
  {
   "cell_type": "code",
   "execution_count": null,
   "metadata": {
    "id": "ZB9UsKlQh5BV"
   },
   "outputs": [],
   "source": [
    "df1.union(df2).filter('genres rlike \"[0-9]\"').limit(5).toPandas()"
   ]
  },
  {
   "cell_type": "code",
   "execution_count": null,
   "metadata": {
    "id": "gDiuLfsXh5BW"
   },
   "outputs": [],
   "source": [
    "df1.unionByName(df2).filter('genres rlike \"[0-9]\"').limit(5).toPandas()"
   ]
  },
  {
   "cell_type": "markdown",
   "metadata": {
    "id": "KPQOFMX1TLrU"
   },
   "source": [
    "### User Defined Functions (UDFs)"
   ]
  },
  {
   "cell_type": "markdown",
   "metadata": {
    "id": "x9ZJh9UfAKqv"
   },
   "source": [
    "Em algumas situações é necessário criar/alterar uma coluna utilizando uma operação não implementada na biblioteca padrão. Para isso, é possível utilzar funções definidas pelo usuário (UDFs) por meio da função `udf()`.\n",
    "\n",
    "**Importante**: As udfs não são otimizadas para serem executadas em paralelo, e por isso podem representar um gargalo na na aplicação."
   ]
  },
  {
   "cell_type": "code",
   "execution_count": null,
   "metadata": {},
   "outputs": [],
   "source": [
    "from unidecode import unidecode\n",
    "from pyspark.sql.types import StringType"
   ]
  },
  {
   "cell_type": "code",
   "execution_count": null,
   "metadata": {
    "id": "CFp-RvZMBFSO"
   },
   "outputs": [],
   "source": [
    "unidecode('àáâçéõü')"
   ]
  },
  {
   "cell_type": "code",
   "execution_count": null,
   "metadata": {
    "id": "pmMoX5nCADSX"
   },
   "outputs": [],
   "source": [
    "def unidecode_function(string):\n",
    "    if not string:\n",
    "        return None\n",
    "    else:\n",
    "        return unidecode(string)\n",
    "\n",
    "unidecode_udf = f.udf(unidecode_function, returnType=StringType())"
   ]
  },
  {
   "cell_type": "code",
   "execution_count": null,
   "metadata": {
    "id": "D5-VNaSoDG5l"
   },
   "outputs": [],
   "source": [
    "(\n",
    "    df_titles\n",
    "    .filter(f.col('primaryTitle').rlike('à|á|â|ç|é|õ|ü'))\n",
    "    .withColumn('cleaned_string', unidecode_udf(f.col('primaryTitle')))\n",
    "    .select('primaryTitle', 'cleaned_string')\n",
    "    .limit(5)\n",
    "    .toPandas()\n",
    ")"
   ]
  },
  {
   "cell_type": "code",
   "execution_count": null,
   "metadata": {
    "id": "qHQIJLTQDyjG"
   },
   "outputs": [],
   "source": [
    "del unidecode_udf"
   ]
  },
  {
   "cell_type": "code",
   "execution_count": null,
   "metadata": {
    "id": "ClKnhsZDDrRJ"
   },
   "outputs": [],
   "source": [
    "@f.udf(returnType=t.StringType())\n",
    "def unidecode_udf(string):\n",
    "    if not string:\n",
    "        return None\n",
    "    else:\n",
    "        return unidecode(string)"
   ]
  },
  {
   "cell_type": "code",
   "execution_count": null,
   "metadata": {
    "id": "XBIxK9mODppf"
   },
   "outputs": [],
   "source": [
    "(\n",
    "    df_titles\n",
    "    .filter(f.col('primaryTitle').rlike('à|á|â|ç|é|õ|ü'))\n",
    "    .withColumn('cleaned_string', unidecode_udf(f.expr('primaryTitle')))\n",
    "    .select('primaryTitle', 'cleaned_string')\n",
    "    .limit(5)\n",
    "    .toPandas()\n",
    ")"
   ]
  }
 ],
 "metadata": {
  "kernelspec": {
   "display_name": "Python 3",
   "language": "python",
   "name": "python3"
  },
  "language_info": {
   "codemirror_mode": {
    "name": "ipython",
    "version": 3
   },
   "file_extension": ".py",
   "mimetype": "text/x-python",
   "name": "python",
   "nbconvert_exporter": "python",
   "pygments_lexer": "ipython3",
   "version": "3.8.5"
  }
 },
 "nbformat": 4,
 "nbformat_minor": 5
}
